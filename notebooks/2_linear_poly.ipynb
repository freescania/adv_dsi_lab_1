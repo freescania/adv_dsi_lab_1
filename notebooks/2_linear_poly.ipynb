{
 "cells": [
  {
   "cell_type": "code",
   "execution_count": 1,
   "id": "fifty-guess",
   "metadata": {},
   "outputs": [],
   "source": [
    "import pandas as pd\n",
    "import numpy as np"
   ]
  },
  {
   "cell_type": "code",
   "execution_count": 8,
   "id": "documented-collaboration",
   "metadata": {},
   "outputs": [
    {
     "ename": "OSError",
     "evalue": "Failed to interpret file 'C:\\\\Users\\\\Angus\\\\Documents\\\\UTS MDSI\\\\Advanced DSI\\\\Projects\\\\adv_dsi_lab_1\\\\data\\\\processed\\\\y_train.joblib' as a pickle",
     "output_type": "error",
     "traceback": [
      "\u001b[1;31m---------------------------------------------------------------------------\u001b[0m",
      "\u001b[1;31mUnpicklingError\u001b[0m                           Traceback (most recent call last)",
      "\u001b[1;32mc:\\users\\angus\\appdata\\local\\programs\\python\\python38\\lib\\site-packages\\numpy\\lib\\npyio.py\u001b[0m in \u001b[0;36mload\u001b[1;34m(file, mmap_mode, allow_pickle, fix_imports, encoding)\u001b[0m\n\u001b[0;32m    447\u001b[0m             \u001b[1;32mtry\u001b[0m\u001b[1;33m:\u001b[0m\u001b[1;33m\u001b[0m\u001b[1;33m\u001b[0m\u001b[0m\n\u001b[1;32m--> 448\u001b[1;33m                 \u001b[1;32mreturn\u001b[0m \u001b[0mpickle\u001b[0m\u001b[1;33m.\u001b[0m\u001b[0mload\u001b[0m\u001b[1;33m(\u001b[0m\u001b[0mfid\u001b[0m\u001b[1;33m,\u001b[0m \u001b[1;33m**\u001b[0m\u001b[0mpickle_kwargs\u001b[0m\u001b[1;33m)\u001b[0m\u001b[1;33m\u001b[0m\u001b[1;33m\u001b[0m\u001b[0m\n\u001b[0m\u001b[0;32m    449\u001b[0m             \u001b[1;32mexcept\u001b[0m \u001b[0mException\u001b[0m \u001b[1;32mas\u001b[0m \u001b[0me\u001b[0m\u001b[1;33m:\u001b[0m\u001b[1;33m\u001b[0m\u001b[1;33m\u001b[0m\u001b[0m\n",
      "\u001b[1;31mUnpicklingError\u001b[0m: invalid load key, '\\x05'.",
      "\nThe above exception was the direct cause of the following exception:\n",
      "\u001b[1;31mOSError\u001b[0m                                   Traceback (most recent call last)",
      "\u001b[1;32m<ipython-input-8-1792934f8f8e>\u001b[0m in \u001b[0;36m<module>\u001b[1;34m\u001b[0m\n\u001b[0;32m      6\u001b[0m                allow_pickle=True)\n\u001b[0;32m      7\u001b[0m \u001b[1;33m\u001b[0m\u001b[0m\n\u001b[1;32m----> 8\u001b[1;33m ytrain = np.load(r\"C:\\Users\\Angus\\Documents\\UTS MDSI\\Advanced DSI\\Projects\\adv_dsi_lab_1\\data\\processed\\y_train.joblib\",\n\u001b[0m\u001b[0;32m      9\u001b[0m                allow_pickle=True)\n\u001b[0;32m     10\u001b[0m yval = np.load(r\"C:\\Users\\Angus\\Documents\\UTS MDSI\\Advanced DSI\\Projects\\adv_dsi_lab_1\\data\\processed\\y_val.joblib\",\n",
      "\u001b[1;32mc:\\users\\angus\\appdata\\local\\programs\\python\\python38\\lib\\site-packages\\numpy\\lib\\npyio.py\u001b[0m in \u001b[0;36mload\u001b[1;34m(file, mmap_mode, allow_pickle, fix_imports, encoding)\u001b[0m\n\u001b[0;32m    448\u001b[0m                 \u001b[1;32mreturn\u001b[0m \u001b[0mpickle\u001b[0m\u001b[1;33m.\u001b[0m\u001b[0mload\u001b[0m\u001b[1;33m(\u001b[0m\u001b[0mfid\u001b[0m\u001b[1;33m,\u001b[0m \u001b[1;33m**\u001b[0m\u001b[0mpickle_kwargs\u001b[0m\u001b[1;33m)\u001b[0m\u001b[1;33m\u001b[0m\u001b[1;33m\u001b[0m\u001b[0m\n\u001b[0;32m    449\u001b[0m             \u001b[1;32mexcept\u001b[0m \u001b[0mException\u001b[0m \u001b[1;32mas\u001b[0m \u001b[0me\u001b[0m\u001b[1;33m:\u001b[0m\u001b[1;33m\u001b[0m\u001b[1;33m\u001b[0m\u001b[0m\n\u001b[1;32m--> 450\u001b[1;33m                 raise IOError(\n\u001b[0m\u001b[0;32m    451\u001b[0m                     \"Failed to interpret file %s as a pickle\" % repr(file)) from e\n\u001b[0;32m    452\u001b[0m \u001b[1;33m\u001b[0m\u001b[0m\n",
      "\u001b[1;31mOSError\u001b[0m: Failed to interpret file 'C:\\\\Users\\\\Angus\\\\Documents\\\\UTS MDSI\\\\Advanced DSI\\\\Projects\\\\adv_dsi_lab_1\\\\data\\\\processed\\\\y_train.joblib' as a pickle"
     ]
    }
   ],
   "source": [
    "\n",
    "Xtest = np.load(r\"C:\\Users\\Angus\\Documents\\UTS MDSI\\Advanced DSI\\Projects\\adv_dsi_lab_1\\data\\processed\\X_test.joblib\",\n",
    "               allow_pickle=True)\n",
    "Xtrain = np.load(r\"C:\\Users\\Angus\\Documents\\UTS MDSI\\Advanced DSI\\Projects\\adv_dsi_lab_1\\data\\processed\\X_train.joblib\",\n",
    "               allow_pickle=True)\n",
    "Xval = np.load(r\"C:\\Users\\Angus\\Documents\\UTS MDSI\\Advanced DSI\\Projects\\adv_dsi_lab_1\\data\\processed\\X_val.joblib\",\n",
    "               allow_pickle=True)\n",
    "ytest = np.load(r\"C:\\Users\\Angus\\Documents\\UTS MDSI\\Advanced DSI\\Projects\\adv_dsi_lab_1\\data\\processed\\y_test.joblib\",\n",
    "               allow_pickle=True)\n",
    "ytrain = np.load(r\"C:\\Users\\Angus\\Documents\\UTS MDSI\\Advanced DSI\\Projects\\adv_dsi_lab_1\\data\\processed\\y_train.joblib\",\n",
    "               allow_pickle=True)\n",
    "yval = np.load(r\"C:\\Users\\Angus\\Documents\\UTS MDSI\\Advanced DSI\\Projects\\adv_dsi_lab_1\\data\\processed\\y_val.joblib\",\n",
    "               allow_pickle=True)"
   ]
  },
  {
   "cell_type": "code",
   "execution_count": null,
   "id": "raising-evening",
   "metadata": {},
   "outputs": [],
   "source": []
  }
 ],
 "metadata": {
  "kernelspec": {
   "display_name": "Python 3",
   "language": "python",
   "name": "python3"
  },
  "language_info": {
   "codemirror_mode": {
    "name": "ipython",
    "version": 3
   },
   "file_extension": ".py",
   "mimetype": "text/x-python",
   "name": "python",
   "nbconvert_exporter": "python",
   "pygments_lexer": "ipython3",
   "version": "3.8.7"
  }
 },
 "nbformat": 4,
 "nbformat_minor": 5
}
